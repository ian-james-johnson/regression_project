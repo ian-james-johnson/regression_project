{
 "cells": [
  {
   "cell_type": "code",
   "execution_count": 150,
   "id": "00d59cf6",
   "metadata": {
    "scrolled": true
   },
   "outputs": [],
   "source": [
    "import numpy as np\n",
    "import pandas as pd\n",
    "\n",
    "import matplotlib.pyplot as plt\n",
    "import seaborn as sns\n",
    "\n",
    "from scipy.stats import pearsonr, spearmanr, ttest_ind\n",
    "\n",
    "from sklearn.model_selection import train_test_split\n",
    "from sklearn.linear_model import LogisticRegression, LinearRegression, LassoLars, TweedieRegressor\n",
    "from sklearn.metrics import classification_report, confusion_matrix, mean_squared_error, explained_variance_score\n",
    "from sklearn.impute import SimpleImputer\n",
    "from sklearn.preprocessing import StandardScaler, MinMaxScaler, PolynomialFeatures\n",
    "from sklearn.feature_selection import RFE, SelectKBest, f_regression\n",
    "\n",
    "# ignore warnings\n",
    "import warnings\n",
    "warnings.filterwarnings(\"ignore\")\n",
    "\n",
    "import acquire\n",
    "#import prepare\n",
    "#import explore"
   ]
  },
  {
   "cell_type": "markdown",
   "id": "28bec827",
   "metadata": {},
   "source": [
    "# Goal <br>\n",
    "The goal of this project is to identify predictive features for the value of properties. <br>\n",
    "Area (sqft), number of bedrooms, and number of bathrooms are likely to influence property values."
   ]
  },
  {
   "cell_type": "markdown",
   "id": "84a365a9",
   "metadata": {},
   "source": [
    "# Acquire"
   ]
  },
  {
   "cell_type": "code",
   "execution_count": 2,
   "id": "a121716c",
   "metadata": {},
   "outputs": [
    {
     "data": {
      "text/html": [
       "<div>\n",
       "<style scoped>\n",
       "    .dataframe tbody tr th:only-of-type {\n",
       "        vertical-align: middle;\n",
       "    }\n",
       "\n",
       "    .dataframe tbody tr th {\n",
       "        vertical-align: top;\n",
       "    }\n",
       "\n",
       "    .dataframe thead th {\n",
       "        text-align: right;\n",
       "    }\n",
       "</style>\n",
       "<table border=\"1\" class=\"dataframe\">\n",
       "  <thead>\n",
       "    <tr style=\"text-align: right;\">\n",
       "      <th></th>\n",
       "      <th>bedroomcnt</th>\n",
       "      <th>bathroomcnt</th>\n",
       "      <th>calculatedfinishedsquarefeet</th>\n",
       "      <th>taxvaluedollarcnt</th>\n",
       "      <th>yearbuilt</th>\n",
       "      <th>taxamount</th>\n",
       "      <th>fips</th>\n",
       "    </tr>\n",
       "  </thead>\n",
       "  <tbody>\n",
       "    <tr>\n",
       "      <th>0</th>\n",
       "      <td>0.0</td>\n",
       "      <td>0.0</td>\n",
       "      <td>NaN</td>\n",
       "      <td>27516.0</td>\n",
       "      <td>NaN</td>\n",
       "      <td>NaN</td>\n",
       "      <td>6037.0</td>\n",
       "    </tr>\n",
       "    <tr>\n",
       "      <th>1</th>\n",
       "      <td>0.0</td>\n",
       "      <td>0.0</td>\n",
       "      <td>NaN</td>\n",
       "      <td>10.0</td>\n",
       "      <td>NaN</td>\n",
       "      <td>NaN</td>\n",
       "      <td>6037.0</td>\n",
       "    </tr>\n",
       "    <tr>\n",
       "      <th>2</th>\n",
       "      <td>0.0</td>\n",
       "      <td>0.0</td>\n",
       "      <td>NaN</td>\n",
       "      <td>10.0</td>\n",
       "      <td>NaN</td>\n",
       "      <td>NaN</td>\n",
       "      <td>6037.0</td>\n",
       "    </tr>\n",
       "    <tr>\n",
       "      <th>3</th>\n",
       "      <td>0.0</td>\n",
       "      <td>0.0</td>\n",
       "      <td>NaN</td>\n",
       "      <td>2108.0</td>\n",
       "      <td>NaN</td>\n",
       "      <td>174.21</td>\n",
       "      <td>6037.0</td>\n",
       "    </tr>\n",
       "    <tr>\n",
       "      <th>4</th>\n",
       "      <td>4.0</td>\n",
       "      <td>2.0</td>\n",
       "      <td>3633.0</td>\n",
       "      <td>296425.0</td>\n",
       "      <td>2005.0</td>\n",
       "      <td>6941.39</td>\n",
       "      <td>6037.0</td>\n",
       "    </tr>\n",
       "  </tbody>\n",
       "</table>\n",
       "</div>"
      ],
      "text/plain": [
       "   bedroomcnt  bathroomcnt  calculatedfinishedsquarefeet  taxvaluedollarcnt  \\\n",
       "0         0.0          0.0                           NaN            27516.0   \n",
       "1         0.0          0.0                           NaN               10.0   \n",
       "2         0.0          0.0                           NaN               10.0   \n",
       "3         0.0          0.0                           NaN             2108.0   \n",
       "4         4.0          2.0                        3633.0           296425.0   \n",
       "\n",
       "   yearbuilt  taxamount    fips  \n",
       "0        NaN        NaN  6037.0  \n",
       "1        NaN        NaN  6037.0  \n",
       "2        NaN        NaN  6037.0  \n",
       "3        NaN     174.21  6037.0  \n",
       "4     2005.0    6941.39  6037.0  "
      ]
     },
     "execution_count": 2,
     "metadata": {},
     "output_type": "execute_result"
    }
   ],
   "source": [
    "df = acquire.get_zillow_data()\n",
    "df.head()"
   ]
  },
  {
   "cell_type": "code",
   "execution_count": 3,
   "id": "2e48643a",
   "metadata": {},
   "outputs": [
    {
     "data": {
      "text/plain": [
       "(2152863, 7)"
      ]
     },
     "execution_count": 3,
     "metadata": {},
     "output_type": "execute_result"
    }
   ],
   "source": [
    "df.shape"
   ]
  },
  {
   "cell_type": "code",
   "execution_count": 4,
   "id": "918ad820",
   "metadata": {},
   "outputs": [
    {
     "data": {
      "text/plain": [
       "bedroomcnt                      float64\n",
       "bathroomcnt                     float64\n",
       "calculatedfinishedsquarefeet    float64\n",
       "taxvaluedollarcnt               float64\n",
       "yearbuilt                       float64\n",
       "taxamount                       float64\n",
       "fips                            float64\n",
       "dtype: object"
      ]
     },
     "execution_count": 4,
     "metadata": {},
     "output_type": "execute_result"
    }
   ],
   "source": [
    "df.dtypes"
   ]
  },
  {
   "cell_type": "code",
   "execution_count": 5,
   "id": "ae46006f",
   "metadata": {},
   "outputs": [
    {
     "data": {
      "text/plain": [
       "bedroomcnt                        11\n",
       "bathroomcnt                       11\n",
       "calculatedfinishedsquarefeet    8484\n",
       "taxvaluedollarcnt                493\n",
       "yearbuilt                       9337\n",
       "taxamount                       4442\n",
       "fips                               0\n",
       "dtype: int64"
      ]
     },
     "execution_count": 5,
     "metadata": {},
     "output_type": "execute_result"
    }
   ],
   "source": [
    "df.isna().sum()"
   ]
  },
  {
   "cell_type": "markdown",
   "id": "e6b9898d",
   "metadata": {},
   "source": [
    "# Prepare"
   ]
  },
  {
   "cell_type": "markdown",
   "id": "481e3dfd",
   "metadata": {},
   "source": [
    "Look at tax rates by county."
   ]
  },
  {
   "cell_type": "code",
   "execution_count": 6,
   "id": "cf2e0949",
   "metadata": {
    "scrolled": true
   },
   "outputs": [],
   "source": [
    "def get_tax_info(df):\n",
    "    # This is the columns that will be used to predict tax rate by county\n",
    "    tax_info = df[['taxamount', 'taxvaluedollarcnt', 'fips']]\n",
    "    \n",
    "    tax_info = tax_info.dropna()\n",
    "    \n",
    "    # This reduces our dataset to 1000 randomly selected rows\n",
    "    # The original dataset has too many points to easily plot\n",
    "    tax_info = tax_info.sample(n=1000, axis=0)\n",
    "    \n",
    "    # This is the tax rate\n",
    "    tax_info['tax_rates'] = round((df.taxamount / df.taxvaluedollarcnt) * 100, 2)\n",
    "    \n",
    "    # Setting up tax rates by county from fips\n",
    "    los_angeles = tax_info[tax_info.fips == 6037].tax_rates\n",
    "    orange = tax_info[tax_info.fips == 6059].tax_rates\n",
    "    ventura = tax_info[tax_info.fips == 6111].tax_rates\n",
    "    \n",
    "    # Now to plot the tax rates by county\n",
    "    plt.figure(figsize = (10, 5))\n",
    "\n",
    "    plt.subplot(311)\n",
    "    plt.hist(los_angeles, bins = 100)\n",
    "    plt.title('Los Angeles County Tax Rates')\n",
    "    plt.xlabel('Tax Rates (%)')\n",
    "    plt.ylabel('Frequency')\n",
    "\n",
    "    plt.subplot(312)\n",
    "    plt.hist(orange, bins = 100)\n",
    "    plt.title('Orange County Tax Rates')\n",
    "    plt.xlabel('Tax Rates (%)')\n",
    "    plt.ylabel('Frequency')\n",
    "\n",
    "    plt.subplot(313)\n",
    "    plt.hist(ventura, bins = 100)\n",
    "    plt.title('Ventura County Tax Rates')\n",
    "    plt.xlabel('Tax Rates (%)')\n",
    "    plt.ylabel('Frequency')\n",
    "\n",
    "    plt.subplots_adjust(bottom=3, top=7)\n",
    "\n",
    "    plt.show()\n",
    "    \n",
    "    return tax_info"
   ]
  },
  {
   "cell_type": "code",
   "execution_count": 7,
   "id": "b4e89dc7",
   "metadata": {},
   "outputs": [
    {
     "data": {
      "image/png": "[encoded data removed]",
      "text/plain": [
       "<Figure size 720x360 with 3 Axes>"
      ]
     },
     "metadata": {
      "needs_background": "light"
     },
     "output_type": "display_data"
    }
   ],
   "source": [
    "tax_info = get_tax_info(df)"
   ]
  },
  {
   "cell_type": "code",
   "execution_count": 12,
   "id": "45813f20",
   "metadata": {},
   "outputs": [],
   "source": [
    "def prepare_zillow(df):\n",
    "    '''\n",
    "    This prepares zillow df for analysis.\n",
    "    Only the features needed for MVP are kept.\n",
    "    Columns are given more meaningfull names.\n",
    "    Nulls are dropped.\n",
    "    Properties without bedrooms or bathrooms are dropped.\n",
    "    '''\n",
    "    \n",
    "    # Get dataframe with only features needed for the MVP\n",
    "    zillow = df[['calculatedfinishedsquarefeet', 'bedroomcnt', 'bathroomcnt', \n",
    "                 'taxvaluedollarcnt']]\n",
    "\n",
    "    # Give column more meaningful names\n",
    "    zillow = zillow.rename(columns={'calculatedfinishedsquarefeet':'area', \n",
    "                                    'bedroomcnt':'bedroom', \n",
    "                                    'bathroomcnt':'bathroom', \n",
    "                                    'taxvaluedollarcnt':'taxvalue'})\n",
    "\n",
    "    # Drop rows with null values\n",
    "    zillow = zillow.dropna()\n",
    "\n",
    "    # Drop properties with no bedrooms or bathrooms\n",
    "    zillow = zillow[zillow.bedroom > 0]\n",
    "    zillow = zillow[zillow.bathroom > 0]\n",
    "    \n",
    "    return zillow"
   ]
  },
  {
   "cell_type": "code",
   "execution_count": 16,
   "id": "bad59938",
   "metadata": {},
   "outputs": [
    {
     "data": {
      "text/html": [
       "<div>\n",
       "<style scoped>\n",
       "    .dataframe tbody tr th:only-of-type {\n",
       "        vertical-align: middle;\n",
       "    }\n",
       "\n",
       "    .dataframe tbody tr th {\n",
       "        vertical-align: top;\n",
       "    }\n",
       "\n",
       "    .dataframe thead th {\n",
       "        text-align: right;\n",
       "    }\n",
       "</style>\n",
       "<table border=\"1\" class=\"dataframe\">\n",
       "  <thead>\n",
       "    <tr style=\"text-align: right;\">\n",
       "      <th></th>\n",
       "      <th>area</th>\n",
       "      <th>bedroom</th>\n",
       "      <th>bathroom</th>\n",
       "      <th>taxvalue</th>\n",
       "    </tr>\n",
       "  </thead>\n",
       "  <tbody>\n",
       "    <tr>\n",
       "      <th>4</th>\n",
       "      <td>3633.0</td>\n",
       "      <td>4.0</td>\n",
       "      <td>2.0</td>\n",
       "      <td>296425.0</td>\n",
       "    </tr>\n",
       "    <tr>\n",
       "      <th>6</th>\n",
       "      <td>1620.0</td>\n",
       "      <td>3.0</td>\n",
       "      <td>4.0</td>\n",
       "      <td>847770.0</td>\n",
       "    </tr>\n",
       "    <tr>\n",
       "      <th>7</th>\n",
       "      <td>2077.0</td>\n",
       "      <td>3.0</td>\n",
       "      <td>2.0</td>\n",
       "      <td>646760.0</td>\n",
       "    </tr>\n",
       "    <tr>\n",
       "      <th>18</th>\n",
       "      <td>1244.0</td>\n",
       "      <td>3.0</td>\n",
       "      <td>1.0</td>\n",
       "      <td>169471.0</td>\n",
       "    </tr>\n",
       "    <tr>\n",
       "      <th>19</th>\n",
       "      <td>1300.0</td>\n",
       "      <td>3.0</td>\n",
       "      <td>2.0</td>\n",
       "      <td>233266.0</td>\n",
       "    </tr>\n",
       "  </tbody>\n",
       "</table>\n",
       "</div>"
      ],
      "text/plain": [
       "      area  bedroom  bathroom  taxvalue\n",
       "4   3633.0      4.0       2.0  296425.0\n",
       "6   1620.0      3.0       4.0  847770.0\n",
       "7   2077.0      3.0       2.0  646760.0\n",
       "18  1244.0      3.0       1.0  169471.0\n",
       "19  1300.0      3.0       2.0  233266.0"
      ]
     },
     "execution_count": 16,
     "metadata": {},
     "output_type": "execute_result"
    }
   ],
   "source": [
    "zillow = prepare_zillow(df)\n",
    "zillow.head()"
   ]
  },
  {
   "cell_type": "code",
   "execution_count": 17,
   "id": "9978ca98",
   "metadata": {},
   "outputs": [],
   "source": [
    "def zillow_split(zillow):\n",
    "    '''\n",
    "    This function splits the df into train, validate, and test subsets.\n",
    "    '''\n",
    "    # Split the data into train, validate, test, subsets\n",
    "    train_validate, test = train_test_split(zillow, test_size=.2, random_state=123)\n",
    "    train, validate = train_test_split(zillow, test_size=.25, random_state=123)\n",
    "\n",
    "    return train, validate, test"
   ]
  },
  {
   "cell_type": "code",
   "execution_count": 19,
   "id": "c0eeb9cb",
   "metadata": {},
   "outputs": [
    {
     "data": {
      "text/plain": [
       "((1603806, 4), (534602, 4), (427682, 4))"
      ]
     },
     "execution_count": 19,
     "metadata": {},
     "output_type": "execute_result"
    }
   ],
   "source": [
    "train, validate, test = zillow_split(zillow)\n",
    "train.shape, validate.shape, test.shape"
   ]
  },
  {
   "cell_type": "code",
   "execution_count": 20,
   "id": "ee316471",
   "metadata": {},
   "outputs": [
    {
     "data": {
      "text/html": [
       "<div>\n",
       "<style scoped>\n",
       "    .dataframe tbody tr th:only-of-type {\n",
       "        vertical-align: middle;\n",
       "    }\n",
       "\n",
       "    .dataframe tbody tr th {\n",
       "        vertical-align: top;\n",
       "    }\n",
       "\n",
       "    .dataframe thead th {\n",
       "        text-align: right;\n",
       "    }\n",
       "</style>\n",
       "<table border=\"1\" class=\"dataframe\">\n",
       "  <thead>\n",
       "    <tr style=\"text-align: right;\">\n",
       "      <th></th>\n",
       "      <th>area</th>\n",
       "      <th>bedroom</th>\n",
       "      <th>bathroom</th>\n",
       "      <th>taxvalue</th>\n",
       "    </tr>\n",
       "  </thead>\n",
       "  <tbody>\n",
       "    <tr>\n",
       "      <th>712535</th>\n",
       "      <td>1182.0</td>\n",
       "      <td>3.0</td>\n",
       "      <td>1.0</td>\n",
       "      <td>170555.0</td>\n",
       "    </tr>\n",
       "    <tr>\n",
       "      <th>1595009</th>\n",
       "      <td>804.0</td>\n",
       "      <td>2.0</td>\n",
       "      <td>1.0</td>\n",
       "      <td>619302.0</td>\n",
       "    </tr>\n",
       "    <tr>\n",
       "      <th>2010309</th>\n",
       "      <td>2534.0</td>\n",
       "      <td>4.0</td>\n",
       "      <td>3.0</td>\n",
       "      <td>353679.0</td>\n",
       "    </tr>\n",
       "    <tr>\n",
       "      <th>1076111</th>\n",
       "      <td>1485.0</td>\n",
       "      <td>3.0</td>\n",
       "      <td>2.0</td>\n",
       "      <td>344602.0</td>\n",
       "    </tr>\n",
       "    <tr>\n",
       "      <th>1233651</th>\n",
       "      <td>1418.0</td>\n",
       "      <td>3.0</td>\n",
       "      <td>2.0</td>\n",
       "      <td>486048.0</td>\n",
       "    </tr>\n",
       "  </tbody>\n",
       "</table>\n",
       "</div>"
      ],
      "text/plain": [
       "           area  bedroom  bathroom  taxvalue\n",
       "712535   1182.0      3.0       1.0  170555.0\n",
       "1595009   804.0      2.0       1.0  619302.0\n",
       "2010309  2534.0      4.0       3.0  353679.0\n",
       "1076111  1485.0      3.0       2.0  344602.0\n",
       "1233651  1418.0      3.0       2.0  486048.0"
      ]
     },
     "execution_count": 20,
     "metadata": {},
     "output_type": "execute_result"
    }
   ],
   "source": [
    "train.head()"
   ]
  },
  {
   "cell_type": "markdown",
   "id": "49caf5f6",
   "metadata": {},
   "source": [
    "# Explore"
   ]
  },
  {
   "cell_type": "code",
   "execution_count": 21,
   "id": "3b99340f",
   "metadata": {},
   "outputs": [
    {
     "data": {
      "text/plain": [
       "<seaborn.axisgrid.PairGrid at 0x7fb55bcd8ca0>"
      ]
     },
     "execution_count": 21,
     "metadata": {},
     "output_type": "execute_result"
    },
    {
     "data": {
      "image/png": "[encoded data removed]",
      "text/plain": [
       "<Figure size 720x720 with 20 Axes>"
      ]
     },
     "metadata": {
      "needs_background": "light"
     },
     "output_type": "display_data"
    }
   ],
   "source": [
    "# Explore the train subset\n",
    "# The train subset is too big to easily plot it, so I will randomly pick 1000 rows\n",
    "train_sampled = train.sample(n=1000, axis=0)\n",
    "\n",
    "sns.pairplot(train_sampled)"
   ]
  },
  {
   "cell_type": "code",
   "execution_count": 22,
   "id": "89c45775",
   "metadata": {},
   "outputs": [
    {
     "data": {
      "text/html": [
       "<div>\n",
       "<style scoped>\n",
       "    .dataframe tbody tr th:only-of-type {\n",
       "        vertical-align: middle;\n",
       "    }\n",
       "\n",
       "    .dataframe tbody tr th {\n",
       "        vertical-align: top;\n",
       "    }\n",
       "\n",
       "    .dataframe thead th {\n",
       "        text-align: right;\n",
       "    }\n",
       "</style>\n",
       "<table border=\"1\" class=\"dataframe\">\n",
       "  <thead>\n",
       "    <tr style=\"text-align: right;\">\n",
       "      <th></th>\n",
       "      <th>area</th>\n",
       "      <th>bedroom</th>\n",
       "      <th>bathroom</th>\n",
       "      <th>taxvalue</th>\n",
       "    </tr>\n",
       "  </thead>\n",
       "  <tbody>\n",
       "    <tr>\n",
       "      <th>area</th>\n",
       "      <td>1.000000</td>\n",
       "      <td>0.651563</td>\n",
       "      <td>0.865334</td>\n",
       "      <td>0.662269</td>\n",
       "    </tr>\n",
       "    <tr>\n",
       "      <th>bedroom</th>\n",
       "      <td>0.651563</td>\n",
       "      <td>1.000000</td>\n",
       "      <td>0.668550</td>\n",
       "      <td>0.332955</td>\n",
       "    </tr>\n",
       "    <tr>\n",
       "      <th>bathroom</th>\n",
       "      <td>0.865334</td>\n",
       "      <td>0.668550</td>\n",
       "      <td>1.000000</td>\n",
       "      <td>0.602251</td>\n",
       "    </tr>\n",
       "    <tr>\n",
       "      <th>taxvalue</th>\n",
       "      <td>0.662269</td>\n",
       "      <td>0.332955</td>\n",
       "      <td>0.602251</td>\n",
       "      <td>1.000000</td>\n",
       "    </tr>\n",
       "  </tbody>\n",
       "</table>\n",
       "</div>"
      ],
      "text/plain": [
       "              area   bedroom  bathroom  taxvalue\n",
       "area      1.000000  0.651563  0.865334  0.662269\n",
       "bedroom   0.651563  1.000000  0.668550  0.332955\n",
       "bathroom  0.865334  0.668550  1.000000  0.602251\n",
       "taxvalue  0.662269  0.332955  0.602251  1.000000"
      ]
     },
     "execution_count": 22,
     "metadata": {},
     "output_type": "execute_result"
    }
   ],
   "source": [
    "# This tells us which features are correlated with taxvalue\n",
    "train_sampled.corr()"
   ]
  },
  {
   "cell_type": "code",
   "execution_count": 100,
   "id": "cc85efe3",
   "metadata": {
    "scrolled": true
   },
   "outputs": [
    {
     "data": {
      "text/plain": [
       "(0.48045569760299606, 0.0)"
      ]
     },
     "execution_count": 100,
     "metadata": {},
     "output_type": "execute_result"
    }
   ],
   "source": [
    "# Correlation tests are used to check if two features are correlated\n",
    "r, p = pearsonr(train.taxvalue, train.area)\n",
    "r,p"
   ]
  },
  {
   "cell_type": "code",
   "execution_count": 101,
   "id": "553f70ea",
   "metadata": {},
   "outputs": [
    {
     "data": {
      "text/plain": [
       "(0.2587995566753232, 0.0)"
      ]
     },
     "execution_count": 101,
     "metadata": {},
     "output_type": "execute_result"
    }
   ],
   "source": [
    "r, p = pearsonr(train.taxvalue, train.bedroom)\n",
    "r,p"
   ]
  },
  {
   "cell_type": "code",
   "execution_count": 102,
   "id": "9cf1b722",
   "metadata": {},
   "outputs": [
    {
     "data": {
      "text/plain": [
       "(0.5049545378429363, 0.0)"
      ]
     },
     "execution_count": 102,
     "metadata": {},
     "output_type": "execute_result"
    }
   ],
   "source": [
    "r, p = pearsonr(train.taxvalue, train.bathroom)\n",
    "r,p"
   ]
  },
  {
   "cell_type": "code",
   "execution_count": 105,
   "id": "67e85d2d",
   "metadata": {},
   "outputs": [
    {
     "data": {
      "text/plain": [
       "(856.4625199413069, 0.0)"
      ]
     },
     "execution_count": 105,
     "metadata": {},
     "output_type": "execute_result"
    }
   ],
   "source": [
    "f, p = ttest_ind(train.taxvalue, train.area)\n",
    "f, p"
   ]
  },
  {
   "cell_type": "code",
   "execution_count": 106,
   "id": "7ab08f64",
   "metadata": {},
   "outputs": [
    {
     "data": {
      "text/plain": [
       "(859.9344893881657, 0.0)"
      ]
     },
     "execution_count": 106,
     "metadata": {},
     "output_type": "execute_result"
    }
   ],
   "source": [
    "f, p = ttest_ind(train.taxvalue, train.bedroom)\n",
    "f, p"
   ]
  },
  {
   "cell_type": "code",
   "execution_count": 107,
   "id": "08449ab6",
   "metadata": {},
   "outputs": [
    {
     "data": {
      "text/plain": [
       "(859.9364716586346, 0.0)"
      ]
     },
     "execution_count": 107,
     "metadata": {},
     "output_type": "execute_result"
    }
   ],
   "source": [
    "f, p = ttest_ind(train.taxvalue, train.bathroom)\n",
    "f, p"
   ]
  },
  {
   "cell_type": "markdown",
   "id": "b8d12d76",
   "metadata": {},
   "source": [
    "# Model & Evaluate"
   ]
  },
  {
   "cell_type": "markdown",
   "id": "c688b756",
   "metadata": {},
   "source": [
    "Scale the predictive features, but not the target"
   ]
  },
  {
   "cell_type": "code",
   "execution_count": 108,
   "id": "46ea3058",
   "metadata": {},
   "outputs": [],
   "source": [
    "# Create subsets with only predictive features (x)\n",
    "# Create subsets with only target feature (y)\n",
    "x_train = train.drop(columns='taxvalue')\n",
    "y_train = train.taxvalue\n",
    "x_validate = train.drop(columns='taxvalue')\n",
    "y_validate = train.taxvalue\n",
    "x_test = train.drop(columns='taxvalue')\n",
    "y_test = train.taxvalue"
   ]
  },
  {
   "cell_type": "code",
   "execution_count": 109,
   "id": "2c8a94b6",
   "metadata": {},
   "outputs": [],
   "source": [
    "def zillow_scale(train, validate, test):\n",
    "    '''\n",
    "    This function scales data after it has been split into train, validate, and test subsets.\n",
    "    '''\n",
    "   \n",
    "    # Create the scaler object\n",
    "    scaler = MinMaxScaler()\n",
    "\n",
    "    # Fit the scaler\n",
    "    scaler.fit(x_train)\n",
    "\n",
    "    # Use the scaler\n",
    "    x_train_scaled = scaler.transform(x_train)\n",
    "    x_validate_scaled = scaler.transform(x_validate)\n",
    "    x_test_scaled = scaler.transform(x_test)\n",
    "\n",
    "    return x_train_scaled, x_validate_scaled, x_test_scaled"
   ]
  },
  {
   "cell_type": "code",
   "execution_count": 110,
   "id": "ca5c8fb7",
   "metadata": {},
   "outputs": [
    {
     "data": {
      "text/plain": [
       "((1603806, 3), (1603806, 3), (1603806, 3))"
      ]
     },
     "execution_count": 110,
     "metadata": {},
     "output_type": "execute_result"
    }
   ],
   "source": [
    "x_train_scaled, x_validate_scaled, x_test_scaled = zillow_scale(train, validate, test)\n",
    "x_train_scaled.shape, x_validate_scaled.shape, x_test_scaled.shape"
   ]
  },
  {
   "cell_type": "code",
   "execution_count": 111,
   "id": "3155a3d1",
   "metadata": {},
   "outputs": [
    {
     "data": {
      "text/plain": [
       "((1603806,), (1603806,), (1603806,))"
      ]
     },
     "execution_count": 111,
     "metadata": {},
     "output_type": "execute_result"
    }
   ],
   "source": [
    "y_train.shape, y_validate.shape, y_test.shape"
   ]
  },
  {
   "cell_type": "markdown",
   "id": "50b42341",
   "metadata": {},
   "source": [
    "### Using Kbest to identify importance of features"
   ]
  },
  {
   "cell_type": "code",
   "execution_count": 112,
   "id": "47d9c760",
   "metadata": {},
   "outputs": [],
   "source": [
    "def select_kbest(x_train_scaled, y_train, k):\n",
    "    '''\n",
    "    This function takes predictive features (x_train), target features (y_train), \n",
    "    and the number of top features (k) that we want to select.\n",
    "    It returns the top predictive features that correlate with the target.\n",
    "    '''\n",
    "    \n",
    "    # Create the object\n",
    "    kbest = SelectKBest(f_regression, k)\n",
    "    \n",
    "    # Fit the object\n",
    "    kbest = best.fit(x_train_scaled, y_train)\n",
    "\n",
    "    # Convert back into a pd dataframe\n",
    "    x_train_scaled = pd.DataFrame(x_train_scaled)\n",
    "\n",
    "    # Return the columns names back to their original names (names were lost when kbest converted them into series)\n",
    "    x_train_scaled.columns = x_train.columns\n",
    "\n",
    "    # Use the object\n",
    "    kbest = x_train.columns[kbest.get_support()]\n",
    "    \n",
    "    return kbest"
   ]
  },
  {
   "cell_type": "code",
   "execution_count": 113,
   "id": "b61b7d3b",
   "metadata": {},
   "outputs": [
    {
     "data": {
      "text/plain": [
       "Index(['bathroom'], dtype='object')"
      ]
     },
     "execution_count": 113,
     "metadata": {},
     "output_type": "execute_result"
    }
   ],
   "source": [
    "kbest = select_kbest(x_train_scaled, y_train, 1)\n",
    "kbest"
   ]
  },
  {
   "cell_type": "markdown",
   "id": "4f160743",
   "metadata": {},
   "source": [
    "### Using RFE to identify importance of features"
   ]
  },
  {
   "cell_type": "code",
   "execution_count": 114,
   "id": "3a74e4e8",
   "metadata": {
    "scrolled": false
   },
   "outputs": [],
   "source": [
    "def select_rfe(x_train_scaled, y_train, k):\n",
    "    '''\n",
    "    This function uses RFE to find the best predictive features\n",
    "    for the target.\n",
    "    '''\n",
    "    \n",
    "    rfe = RFE(estimator=LinearRegression(), n_features_to_select=k)\n",
    "    rfe.fit(x_train_scaled, y_train)\n",
    "    rfe.get_support()\n",
    "    rfe_best = x_train.columns[rfe.get_support()]\n",
    "    \n",
    "    return rfe_best"
   ]
  },
  {
   "cell_type": "code",
   "execution_count": 115,
   "id": "93b107fe",
   "metadata": {},
   "outputs": [
    {
     "data": {
      "text/plain": [
       "Index(['area'], dtype='object')"
      ]
     },
     "execution_count": 115,
     "metadata": {},
     "output_type": "execute_result"
    }
   ],
   "source": [
    "k=1\n",
    "rfe_best = select_rfe(x_train_scaled, y_train, k)\n",
    "rfe_best"
   ]
  },
  {
   "cell_type": "code",
   "execution_count": 126,
   "id": "f590ea28",
   "metadata": {
    "scrolled": false
   },
   "outputs": [
    {
     "data": {
      "text/html": [
       "<div>\n",
       "<style scoped>\n",
       "    .dataframe tbody tr th:only-of-type {\n",
       "        vertical-align: middle;\n",
       "    }\n",
       "\n",
       "    .dataframe tbody tr th {\n",
       "        vertical-align: top;\n",
       "    }\n",
       "\n",
       "    .dataframe thead th {\n",
       "        text-align: right;\n",
       "    }\n",
       "</style>\n",
       "<table border=\"1\" class=\"dataframe\">\n",
       "  <thead>\n",
       "    <tr style=\"text-align: right;\">\n",
       "      <th></th>\n",
       "      <th>taxvalue</th>\n",
       "      <th>price_pred_mean</th>\n",
       "      <th>price_pred_lm</th>\n",
       "      <th>price_pred_lars</th>\n",
       "    </tr>\n",
       "  </thead>\n",
       "  <tbody>\n",
       "    <tr>\n",
       "      <th>712535</th>\n",
       "      <td>170555.0</td>\n",
       "      <td>460986.858177</td>\n",
       "      <td>1.713151e+11</td>\n",
       "      <td>39065.512928</td>\n",
       "    </tr>\n",
       "    <tr>\n",
       "      <th>1595009</th>\n",
       "      <td>619302.0</td>\n",
       "      <td>460986.858177</td>\n",
       "      <td>1.165320e+11</td>\n",
       "      <td>78937.429111</td>\n",
       "    </tr>\n",
       "    <tr>\n",
       "      <th>2010309</th>\n",
       "      <td>353679.0</td>\n",
       "      <td>460986.858177</td>\n",
       "      <td>3.672831e+11</td>\n",
       "      <td>706742.898728</td>\n",
       "    </tr>\n",
       "    <tr>\n",
       "      <th>1076111</th>\n",
       "      <td>344602.0</td>\n",
       "      <td>460986.858177</td>\n",
       "      <td>2.152394e+11</td>\n",
       "      <td>365014.848149</td>\n",
       "    </tr>\n",
       "    <tr>\n",
       "      <th>1233651</th>\n",
       "      <td>486048.0</td>\n",
       "      <td>460986.858177</td>\n",
       "      <td>2.055288e+11</td>\n",
       "      <td>354882.803820</td>\n",
       "    </tr>\n",
       "  </tbody>\n",
       "</table>\n",
       "</div>"
      ],
      "text/plain": [
       "         taxvalue  price_pred_mean  price_pred_lm  price_pred_lars\n",
       "712535   170555.0    460986.858177   1.713151e+11     39065.512928\n",
       "1595009  619302.0    460986.858177   1.165320e+11     78937.429111\n",
       "2010309  353679.0    460986.858177   3.672831e+11    706742.898728\n",
       "1076111  344602.0    460986.858177   2.152394e+11    365014.848149\n",
       "1233651  486048.0    460986.858177   2.055288e+11    354882.803820"
      ]
     },
     "execution_count": 126,
     "metadata": {},
     "output_type": "execute_result"
    }
   ],
   "source": [
    "# Convert target series back into pd dataframe\n",
    "y_train = pd.DataFrame(y_train)\n",
    "y_validate = pd.DataFrame(y_validate)\n",
    "y_test = pd.DataFrame(y_test)\n",
    "\n",
    "y_train.head()"
   ]
  },
  {
   "cell_type": "markdown",
   "id": "546cc1f0",
   "metadata": {},
   "source": [
    "### Creating a baseline model"
   ]
  },
  {
   "cell_type": "code",
   "execution_count": 145,
   "id": "e622bf99",
   "metadata": {},
   "outputs": [
    {
     "data": {
      "text/html": [
       "<div>\n",
       "<style scoped>\n",
       "    .dataframe tbody tr th:only-of-type {\n",
       "        vertical-align: middle;\n",
       "    }\n",
       "\n",
       "    .dataframe tbody tr th {\n",
       "        vertical-align: top;\n",
       "    }\n",
       "\n",
       "    .dataframe thead th {\n",
       "        text-align: right;\n",
       "    }\n",
       "</style>\n",
       "<table border=\"1\" class=\"dataframe\">\n",
       "  <thead>\n",
       "    <tr style=\"text-align: right;\">\n",
       "      <th></th>\n",
       "      <th>taxvalue</th>\n",
       "      <th>price_pred_mean</th>\n",
       "      <th>price_pred_lm</th>\n",
       "      <th>price_pred_lars</th>\n",
       "      <th>price_pred_glm</th>\n",
       "    </tr>\n",
       "  </thead>\n",
       "  <tbody>\n",
       "    <tr>\n",
       "      <th>712535</th>\n",
       "      <td>170555.0</td>\n",
       "      <td>460986.858177</td>\n",
       "      <td>1.713151e+11</td>\n",
       "      <td>39065.512928</td>\n",
       "      <td>460986.858177</td>\n",
       "    </tr>\n",
       "    <tr>\n",
       "      <th>1595009</th>\n",
       "      <td>619302.0</td>\n",
       "      <td>460986.858177</td>\n",
       "      <td>1.165320e+11</td>\n",
       "      <td>78937.429111</td>\n",
       "      <td>460986.858177</td>\n",
       "    </tr>\n",
       "    <tr>\n",
       "      <th>2010309</th>\n",
       "      <td>353679.0</td>\n",
       "      <td>460986.858177</td>\n",
       "      <td>3.672831e+11</td>\n",
       "      <td>706742.898728</td>\n",
       "      <td>460986.858177</td>\n",
       "    </tr>\n",
       "    <tr>\n",
       "      <th>1076111</th>\n",
       "      <td>344602.0</td>\n",
       "      <td>460986.858177</td>\n",
       "      <td>2.152394e+11</td>\n",
       "      <td>365014.848149</td>\n",
       "      <td>460986.858177</td>\n",
       "    </tr>\n",
       "    <tr>\n",
       "      <th>1233651</th>\n",
       "      <td>486048.0</td>\n",
       "      <td>460986.858177</td>\n",
       "      <td>2.055288e+11</td>\n",
       "      <td>354882.803820</td>\n",
       "      <td>460986.858177</td>\n",
       "    </tr>\n",
       "  </tbody>\n",
       "</table>\n",
       "</div>"
      ],
      "text/plain": [
       "         taxvalue  price_pred_mean  price_pred_lm  price_pred_lars  \\\n",
       "712535   170555.0    460986.858177   1.713151e+11     39065.512928   \n",
       "1595009  619302.0    460986.858177   1.165320e+11     78937.429111   \n",
       "2010309  353679.0    460986.858177   3.672831e+11    706742.898728   \n",
       "1076111  344602.0    460986.858177   2.152394e+11    365014.848149   \n",
       "1233651  486048.0    460986.858177   2.055288e+11    354882.803820   \n",
       "\n",
       "         price_pred_glm  \n",
       "712535    460986.858177  \n",
       "1595009   460986.858177  \n",
       "2010309   460986.858177  \n",
       "1076111   460986.858177  \n",
       "1233651   460986.858177  "
      ]
     },
     "execution_count": 145,
     "metadata": {},
     "output_type": "execute_result"
    }
   ],
   "source": [
    "# Create a mean baseline\n",
    "# Baseline is the median even though it says mean, so I don't have to make many changes\n",
    "price_pred_m = y_train.taxvalue.median()\n",
    "y_train['price_pred_mean'] = price_pred_mean\n",
    "y_validate['price_pred_mean'] = price_pred_mean\n",
    "y_test['price_pred_mean'] = price_pred_mean\n",
    "\n",
    "y_train.head()"
   ]
  },
  {
   "cell_type": "code",
   "execution_count": 154,
   "id": "bf5a743f",
   "metadata": {},
   "outputs": [
    {
     "name": "stdout",
     "output_type": "stream",
     "text": [
      "RMSE using Mean\n",
      "Train/In-Sample:  678884.42 \n",
      "Validate/Out-of-Sample:  678884.42 \n",
      " \n",
      " R^2 using Mean\n",
      "Train/In-Sample:  0.0 \n",
      "Validate/Out-of-Sample:  0.0\n"
     ]
    }
   ],
   "source": [
    "# RMSE of price_pred_mean (mean baseline)\n",
    "rmse_train = mean_squared_error(y_train.taxvalue,\n",
    "                                y_train.price_pred_mean) ** .5\n",
    "\n",
    "rmse_validate = mean_squared_error(y_validate.taxvalue, \n",
    "                                   y_validate.price_pred_mean) ** .5\n",
    "\n",
    "rmse_test = mean_squared_error(y_test.taxvalue, \n",
    "                                   y_validate.price_pred_mean) ** .5\n",
    "\n",
    "r2_train = explained_variance_score(y_train.taxvalue, y_train.price_pred_mean)\n",
    "r2_validate = explained_variance_score(y_validate.taxvalue, y_validate.price_pred_mean)\n",
    "\n",
    "\n",
    "print(\"RMSE using Mean\\nTrain/In-Sample: \", round(rmse_train, 2), \n",
    "      \"\\nValidate/Out-of-Sample: \", round(rmse_validate, 2), \n",
    "      \"\\n\",\n",
    "      \"\\n\",\n",
    "      \"R^2 using Mean\\nTrain/In-Sample: \", round(r2_train, 2),\n",
    "      \"\\nValidate/Out-of-Sample: \", round(r2_validate, 2)\n",
    "     )\n"
   ]
  },
  {
   "cell_type": "markdown",
   "id": "eeae0828",
   "metadata": {},
   "source": [
    "### Creating a linear regression model"
   ]
  },
  {
   "cell_type": "code",
   "execution_count": 160,
   "id": "c5654e95",
   "metadata": {},
   "outputs": [
    {
     "name": "stdout",
     "output_type": "stream",
     "text": [
      "RMSE for OLS using LinearRegression\n",
      "Training/In-Sample:  322953489728.15857 \n",
      "Validation/Out-of-Sample:  322953489728.15857 \n",
      " \n",
      " R^2 using Mean\n",
      "Train/In-Sample:  -67965297701.0 \n",
      "Validate/Out-of-Sample:  -67965297701.0\n"
     ]
    }
   ],
   "source": [
    "# Linear regression, OLS\n",
    "\n",
    "# Create the object\n",
    "lm = LinearRegression(normalize=True)\n",
    "\n",
    "# Fit the object\n",
    "lm.fit(x_train_scaled, y_train.taxvalue)\n",
    "\n",
    "# Use the object\n",
    "y_train['price_pred_lm'] = lm.predict(x_train)\n",
    "rmse_train = mean_squared_error(y_train.taxvalue, y_train.price_pred_lm) ** (1/2)\n",
    "\n",
    "y_validate['price_pred_lm'] = lm.predict(x_validate)\n",
    "rmse_validate = mean_squared_error(y_validate.taxvalue, y_validate.price_pred_lm) ** (1/2)\n",
    "\n",
    "r2_train = explained_variance_score(y_train.taxvalue, y_train.price_pred_lm)\n",
    "r2_validate = explained_variance_score(y_validate.taxvalue, y_validate.price_pred_lm)\n",
    "\n",
    "print(\"RMSE for OLS using LinearRegression\\nTraining/In-Sample: \", rmse_train, \n",
    "      \"\\nValidation/Out-of-Sample: \", rmse_validate,\n",
    "      \"\\n\",\n",
    "      \"\\n\",\n",
    "      \"R^2 using Mean\\nTrain/In-Sample: \", round(r2_train, 2),\n",
    "      \"\\nValidate/Out-of-Sample: \", round(r2_validate, 2))"
   ]
  },
  {
   "cell_type": "markdown",
   "id": "21d6a09c",
   "metadata": {},
   "source": [
    "### Creating a LassoLars model"
   ]
  },
  {
   "cell_type": "code",
   "execution_count": 161,
   "id": "c72c36c1",
   "metadata": {},
   "outputs": [
    {
     "name": "stdout",
     "output_type": "stream",
     "text": [
      "RMSE for Lasso + Lars\n",
      "Training/In-Sample:  566507.2561089046 \n",
      "Validation/Out-of-Sample:  566507.2561089046 \n",
      " \n",
      " R^2 using Mean\n",
      "Train/In-Sample:  0.3 \n",
      "Validate/Out-of-Sample:  0.3\n"
     ]
    }
   ],
   "source": [
    "# Create the object\n",
    "lars = LassoLars(alpha=1)\n",
    "\n",
    "# Fit the model to train. \n",
    "# We must specify the column in y_train, \n",
    "# because we have converted it to a dataframe from a series!\n",
    "lars.fit(x_train, y_train.taxvalue)\n",
    "\n",
    "# predict train\n",
    "y_train['price_pred_lars'] = lars.predict(x_train)\n",
    "\n",
    "# evaluate using rmse\n",
    "rmse_train = mean_squared_error(y_train.taxvalue, y_train.price_pred_lars) ** (1/2)\n",
    "\n",
    "# predict validate\n",
    "y_validate['price_pred_lars'] = lars.predict(x_validate)\n",
    "\n",
    "# evaluate using rmse\n",
    "rmse_validate = mean_squared_error(y_validate.taxvalue, y_validate.price_pred_lars) ** (1/2)\n",
    "\n",
    "r2_train = explained_variance_score(y_train.taxvalue, y_train.price_pred_lars)\n",
    "r2_validate = explained_variance_score(y_validate.taxvalue, y_validate.price_pred_lars)\n",
    "\n",
    "print(\"RMSE for Lasso + Lars\\nTraining/In-Sample: \", rmse_train, \n",
    "      \"\\nValidation/Out-of-Sample: \", rmse_validate,\n",
    "      \"\\n\",\n",
    "      \"\\n\",\n",
    "      \"R^2 using Mean\\nTrain/In-Sample: \", round(r2_train, 2),\n",
    "      \"\\nValidate/Out-of-Sample: \", round(r2_validate, 2))"
   ]
  },
  {
   "cell_type": "markdown",
   "id": "ef07bc34",
   "metadata": {},
   "source": [
    "### Creating a generalized linear model (GLM)"
   ]
  },
  {
   "cell_type": "code",
   "execution_count": 162,
   "id": "b0f2c279",
   "metadata": {
    "scrolled": true
   },
   "outputs": [
    {
     "name": "stdout",
     "output_type": "stream",
     "text": [
      "RMSE for GLM using Tweedie, power=1 & alpha=0\n",
      "Training/In-Sample:  678884.4216269397 \n",
      "Validation/Out-of-Sample:  678884.4216269397 \n",
      " \n",
      " R^2 using Mean\n",
      "Train/In-Sample:  0.0 \n",
      "Validate/Out-of-Sample:  0.0\n"
     ]
    }
   ],
   "source": [
    "# Create the object\n",
    "glm = TweedieRegressor(power=1, alpha=0)\n",
    "\n",
    "\n",
    "# Fit the model to train. \n",
    "# We must specify the column in y_train, \n",
    "# becuase we  converted it to a dataframe from a series! \n",
    "glm.fit(x_train, y_train.taxvalue)\n",
    "\n",
    "# predict train\n",
    "y_train['price_pred_glm'] = glm.predict(x_train)\n",
    "\n",
    "# evaluate: rmse\n",
    "rmse_train = mean_squared_error(y_train.taxvalue, y_train.price_pred_glm) ** (1/2)\n",
    "\n",
    "# predict validate\n",
    "y_validate['price_pred_glm'] = glm.predict(x_validate)\n",
    "\n",
    "# evaluate: rmse\n",
    "rmse_validate = mean_squared_error(y_validate.taxvalue, y_validate.price_pred_glm) ** (1/2)\n",
    "\n",
    "r2_train = explained_variance_score(y_train.taxvalue, y_train.price_pred_glm)\n",
    "r2_validate = explained_variance_score(y_validate.taxvalue, y_validate.price_pred_glm)\n",
    "\n",
    "print(\"RMSE for GLM using Tweedie, power=1 & alpha=0\\nTraining/In-Sample: \", rmse_train, \n",
    "      \"\\nValidation/Out-of-Sample: \", rmse_validate,\n",
    "      \"\\n\",\n",
    "      \"\\n\",\n",
    "      \"R^2 using Mean\\nTrain/In-Sample: \", round(r2_train, 2),\n",
    "      \"\\nValidate/Out-of-Sample: \", round(r2_validate, 2))"
   ]
  },
  {
   "cell_type": "code",
   "execution_count": 134,
   "id": "f9966071",
   "metadata": {},
   "outputs": [],
   "source": []
  },
  {
   "cell_type": "code",
   "execution_count": null,
   "id": "cfd2047b",
   "metadata": {},
   "outputs": [],
   "source": []
  }
 ],
 "metadata": {
  "kernelspec": {
   "display_name": "Python 3",
   "language": "python",
   "name": "python3"
  },
  "language_info": {
   "codemirror_mode": {
    "name": "ipython",
    "version": 3
   },
   "file_extension": ".py",
   "mimetype": "text/x-python",
   "name": "python",
   "nbconvert_exporter": "python",
   "pygments_lexer": "ipython3",
   "version": "3.8.8"
  }
 },
 "nbformat": 4,
 "nbformat_minor": 5
}
