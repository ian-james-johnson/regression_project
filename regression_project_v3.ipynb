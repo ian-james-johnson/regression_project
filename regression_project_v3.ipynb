{
 "cells": [
  {
   "cell_type": "code",
   "execution_count": 1,
   "id": "00d59cf6",
   "metadata": {
    "scrolled": true
   },
   "outputs": [],
   "source": [
    "import numpy as np\n",
    "import pandas as pd\n",
    "\n",
    "import matplotlib.pyplot as plt\n",
    "import seaborn as sns\n",
    "\n",
    "from scipy.stats import pearsonr, spearmanr, ttest_ind\n",
    "\n",
    "from sklearn.model_selection import train_test_split\n",
    "from sklearn.linear_model import LogisticRegression, LinearRegression, LassoLars, TweedieRegressor\n",
    "from sklearn.metrics import classification_report, confusion_matrix, mean_squared_error, explained_variance_score\n",
    "from sklearn.impute import SimpleImputer\n",
    "from sklearn.preprocessing import StandardScaler, MinMaxScaler, PolynomialFeatures\n",
    "from sklearn.feature_selection import RFE, SelectKBest, f_regression\n",
    "\n",
    "# ignore warnings\n",
    "import warnings\n",
    "warnings.filterwarnings(\"ignore\")\n",
    "\n",
    "import acquire\n",
    "import prepare\n",
    "import explore\n",
    "import model"
   ]
  },
  {
   "cell_type": "markdown",
   "id": "be31ac1d",
   "metadata": {},
   "source": [
    "# Goal <br>\n",
    "The goal of this project is to identify predictive features for the value of properties. <br>\n",
    "Area (sqft), number of bedrooms, and number of bathrooms are likely to influence property values."
   ]
  },
  {
   "cell_type": "markdown",
   "id": "84a365a9",
   "metadata": {},
   "source": [
    "# Acquire"
   ]
  },
  {
   "cell_type": "code",
   "execution_count": 2,
   "id": "a121716c",
   "metadata": {},
   "outputs": [
    {
     "data": {
      "text/html": [
       "<div>\n",
       "<style scoped>\n",
       "    .dataframe tbody tr th:only-of-type {\n",
       "        vertical-align: middle;\n",
       "    }\n",
       "\n",
       "    .dataframe tbody tr th {\n",
       "        vertical-align: top;\n",
       "    }\n",
       "\n",
       "    .dataframe thead th {\n",
       "        text-align: right;\n",
       "    }\n",
       "</style>\n",
       "<table border=\"1\" class=\"dataframe\">\n",
       "  <thead>\n",
       "    <tr style=\"text-align: right;\">\n",
       "      <th></th>\n",
       "      <th>bedroomcnt</th>\n",
       "      <th>bathroomcnt</th>\n",
       "      <th>calculatedfinishedsquarefeet</th>\n",
       "      <th>taxvaluedollarcnt</th>\n",
       "      <th>yearbuilt</th>\n",
       "      <th>taxamount</th>\n",
       "      <th>fips</th>\n",
       "    </tr>\n",
       "  </thead>\n",
       "  <tbody>\n",
       "    <tr>\n",
       "      <th>0</th>\n",
       "      <td>0.0</td>\n",
       "      <td>0.0</td>\n",
       "      <td>NaN</td>\n",
       "      <td>27516.0</td>\n",
       "      <td>NaN</td>\n",
       "      <td>NaN</td>\n",
       "      <td>6037.0</td>\n",
       "    </tr>\n",
       "    <tr>\n",
       "      <th>1</th>\n",
       "      <td>0.0</td>\n",
       "      <td>0.0</td>\n",
       "      <td>NaN</td>\n",
       "      <td>10.0</td>\n",
       "      <td>NaN</td>\n",
       "      <td>NaN</td>\n",
       "      <td>6037.0</td>\n",
       "    </tr>\n",
       "    <tr>\n",
       "      <th>2</th>\n",
       "      <td>0.0</td>\n",
       "      <td>0.0</td>\n",
       "      <td>NaN</td>\n",
       "      <td>10.0</td>\n",
       "      <td>NaN</td>\n",
       "      <td>NaN</td>\n",
       "      <td>6037.0</td>\n",
       "    </tr>\n",
       "    <tr>\n",
       "      <th>3</th>\n",
       "      <td>0.0</td>\n",
       "      <td>0.0</td>\n",
       "      <td>NaN</td>\n",
       "      <td>2108.0</td>\n",
       "      <td>NaN</td>\n",
       "      <td>174.21</td>\n",
       "      <td>6037.0</td>\n",
       "    </tr>\n",
       "    <tr>\n",
       "      <th>4</th>\n",
       "      <td>4.0</td>\n",
       "      <td>2.0</td>\n",
       "      <td>3633.0</td>\n",
       "      <td>296425.0</td>\n",
       "      <td>2005.0</td>\n",
       "      <td>6941.39</td>\n",
       "      <td>6037.0</td>\n",
       "    </tr>\n",
       "  </tbody>\n",
       "</table>\n",
       "</div>"
      ],
      "text/plain": [
       "   bedroomcnt  bathroomcnt  calculatedfinishedsquarefeet  taxvaluedollarcnt  \\\n",
       "0         0.0          0.0                           NaN            27516.0   \n",
       "1         0.0          0.0                           NaN               10.0   \n",
       "2         0.0          0.0                           NaN               10.0   \n",
       "3         0.0          0.0                           NaN             2108.0   \n",
       "4         4.0          2.0                        3633.0           296425.0   \n",
       "\n",
       "   yearbuilt  taxamount    fips  \n",
       "0        NaN        NaN  6037.0  \n",
       "1        NaN        NaN  6037.0  \n",
       "2        NaN        NaN  6037.0  \n",
       "3        NaN     174.21  6037.0  \n",
       "4     2005.0    6941.39  6037.0  "
      ]
     },
     "execution_count": 2,
     "metadata": {},
     "output_type": "execute_result"
    }
   ],
   "source": [
    "df = acquire.get_zillow_data()\n",
    "df.head()"
   ]
  },
  {
   "cell_type": "code",
   "execution_count": 3,
   "id": "2e48643a",
   "metadata": {},
   "outputs": [
    {
     "data": {
      "text/plain": [
       "(2152863, 7)"
      ]
     },
     "execution_count": 3,
     "metadata": {},
     "output_type": "execute_result"
    }
   ],
   "source": [
    "df.shape"
   ]
  },
  {
   "cell_type": "code",
   "execution_count": 4,
   "id": "918ad820",
   "metadata": {},
   "outputs": [
    {
     "data": {
      "text/plain": [
       "bedroomcnt                      float64\n",
       "bathroomcnt                     float64\n",
       "calculatedfinishedsquarefeet    float64\n",
       "taxvaluedollarcnt               float64\n",
       "yearbuilt                       float64\n",
       "taxamount                       float64\n",
       "fips                            float64\n",
       "dtype: object"
      ]
     },
     "execution_count": 4,
     "metadata": {},
     "output_type": "execute_result"
    }
   ],
   "source": [
    "df.dtypes"
   ]
  },
  {
   "cell_type": "code",
   "execution_count": 5,
   "id": "ae46006f",
   "metadata": {},
   "outputs": [
    {
     "data": {
      "text/plain": [
       "bedroomcnt                        11\n",
       "bathroomcnt                       11\n",
       "calculatedfinishedsquarefeet    8484\n",
       "taxvaluedollarcnt                493\n",
       "yearbuilt                       9337\n",
       "taxamount                       4442\n",
       "fips                               0\n",
       "dtype: int64"
      ]
     },
     "execution_count": 5,
     "metadata": {},
     "output_type": "execute_result"
    }
   ],
   "source": [
    "df.isna().sum()"
   ]
  },
  {
   "cell_type": "markdown",
   "id": "e6b9898d",
   "metadata": {},
   "source": [
    "# Prepare"
   ]
  },
  {
   "cell_type": "markdown",
   "id": "481e3dfd",
   "metadata": {},
   "source": [
    "Look at tax rates by county."
   ]
  },
  {
   "cell_type": "code",
   "execution_count": null,
   "id": "b4e89dc7",
   "metadata": {
    "scrolled": true
   },
   "outputs": [],
   "source": [
    "tax_info = explore.get_tax_info(df)"
   ]
  },
  {
   "cell_type": "code",
   "execution_count": null,
   "id": "cb70910e",
   "metadata": {},
   "outputs": [],
   "source": [
    "los_angeles_median = tax_info[tax_info.fips == 6037].tax_rates.median()\n",
    "orange_median = tax_info[tax_info.fips == 6059].tax_rates.median()\n",
    "ventura_median = tax_info[tax_info.fips == 6111].tax_rates.median()\n",
    "\n",
    "print(\"Median tax rate for Los Angelos\", los_angeles_median)\n",
    "print(\"Median tax rate for Onange\", orange_median)\n",
    "print(\"Median tax rate for Ventura\", ventura_median)"
   ]
  },
  {
   "cell_type": "markdown",
   "id": "a8ed38c2",
   "metadata": {},
   "source": [
    "### Tax rates by county <br>\n",
    "- Los Angelos county has the highest tas rate.\n",
    "- Ventura and Orange counties have similar tax rates."
   ]
  },
  {
   "cell_type": "code",
   "execution_count": 6,
   "id": "bad59938",
   "metadata": {
    "scrolled": true
   },
   "outputs": [
    {
     "data": {
      "text/html": [
       "<div>\n",
       "<style scoped>\n",
       "    .dataframe tbody tr th:only-of-type {\n",
       "        vertical-align: middle;\n",
       "    }\n",
       "\n",
       "    .dataframe tbody tr th {\n",
       "        vertical-align: top;\n",
       "    }\n",
       "\n",
       "    .dataframe thead th {\n",
       "        text-align: right;\n",
       "    }\n",
       "</style>\n",
       "<table border=\"1\" class=\"dataframe\">\n",
       "  <thead>\n",
       "    <tr style=\"text-align: right;\">\n",
       "      <th></th>\n",
       "      <th>bedroom</th>\n",
       "      <th>bathroom</th>\n",
       "      <th>area</th>\n",
       "      <th>taxvalue</th>\n",
       "      <th>yearbuilt</th>\n",
       "      <th>taxamount</th>\n",
       "      <th>fips</th>\n",
       "    </tr>\n",
       "  </thead>\n",
       "  <tbody>\n",
       "    <tr>\n",
       "      <th>4</th>\n",
       "      <td>4.0</td>\n",
       "      <td>2.0</td>\n",
       "      <td>3633.0</td>\n",
       "      <td>296425.0</td>\n",
       "      <td>2005.0</td>\n",
       "      <td>6941.39</td>\n",
       "      <td>6037.0</td>\n",
       "    </tr>\n",
       "    <tr>\n",
       "      <th>6</th>\n",
       "      <td>3.0</td>\n",
       "      <td>4.0</td>\n",
       "      <td>1620.0</td>\n",
       "      <td>847770.0</td>\n",
       "      <td>2011.0</td>\n",
       "      <td>10244.94</td>\n",
       "      <td>6037.0</td>\n",
       "    </tr>\n",
       "    <tr>\n",
       "      <th>7</th>\n",
       "      <td>3.0</td>\n",
       "      <td>2.0</td>\n",
       "      <td>2077.0</td>\n",
       "      <td>646760.0</td>\n",
       "      <td>1926.0</td>\n",
       "      <td>7924.68</td>\n",
       "      <td>6037.0</td>\n",
       "    </tr>\n",
       "    <tr>\n",
       "      <th>18</th>\n",
       "      <td>3.0</td>\n",
       "      <td>1.0</td>\n",
       "      <td>1244.0</td>\n",
       "      <td>169471.0</td>\n",
       "      <td>1950.0</td>\n",
       "      <td>2532.88</td>\n",
       "      <td>6037.0</td>\n",
       "    </tr>\n",
       "    <tr>\n",
       "      <th>19</th>\n",
       "      <td>3.0</td>\n",
       "      <td>2.0</td>\n",
       "      <td>1300.0</td>\n",
       "      <td>233266.0</td>\n",
       "      <td>1950.0</td>\n",
       "      <td>3110.99</td>\n",
       "      <td>6037.0</td>\n",
       "    </tr>\n",
       "  </tbody>\n",
       "</table>\n",
       "</div>"
      ],
      "text/plain": [
       "    bedroom  bathroom    area  taxvalue  yearbuilt  taxamount    fips\n",
       "4       4.0       2.0  3633.0  296425.0     2005.0    6941.39  6037.0\n",
       "6       3.0       4.0  1620.0  847770.0     2011.0   10244.94  6037.0\n",
       "7       3.0       2.0  2077.0  646760.0     1926.0    7924.68  6037.0\n",
       "18      3.0       1.0  1244.0  169471.0     1950.0    2532.88  6037.0\n",
       "19      3.0       2.0  1300.0  233266.0     1950.0    3110.99  6037.0"
      ]
     },
     "execution_count": 6,
     "metadata": {},
     "output_type": "execute_result"
    }
   ],
   "source": [
    "zillow = prepare.prepare_zillow(df)\n",
    "zillow.head()"
   ]
  },
  {
   "cell_type": "code",
   "execution_count": 7,
   "id": "c0eeb9cb",
   "metadata": {},
   "outputs": [
    {
     "data": {
      "text/plain": [
       "((1601181, 7), (533728, 7), (426982, 7))"
      ]
     },
     "execution_count": 7,
     "metadata": {},
     "output_type": "execute_result"
    }
   ],
   "source": [
    "# Spit the data into train, validate, and test subsets\n",
    "train, validate, test = prepare.zillow_split(zillow)\n",
    "train.shape, validate.shape, test.shape"
   ]
  },
  {
   "cell_type": "code",
   "execution_count": 8,
   "id": "ee316471",
   "metadata": {
    "scrolled": true
   },
   "outputs": [
    {
     "data": {
      "text/html": [
       "<div>\n",
       "<style scoped>\n",
       "    .dataframe tbody tr th:only-of-type {\n",
       "        vertical-align: middle;\n",
       "    }\n",
       "\n",
       "    .dataframe tbody tr th {\n",
       "        vertical-align: top;\n",
       "    }\n",
       "\n",
       "    .dataframe thead th {\n",
       "        text-align: right;\n",
       "    }\n",
       "</style>\n",
       "<table border=\"1\" class=\"dataframe\">\n",
       "  <thead>\n",
       "    <tr style=\"text-align: right;\">\n",
       "      <th></th>\n",
       "      <th>bedroom</th>\n",
       "      <th>bathroom</th>\n",
       "      <th>area</th>\n",
       "      <th>taxvalue</th>\n",
       "      <th>yearbuilt</th>\n",
       "      <th>taxamount</th>\n",
       "      <th>fips</th>\n",
       "    </tr>\n",
       "  </thead>\n",
       "  <tbody>\n",
       "    <tr>\n",
       "      <th>231660</th>\n",
       "      <td>2.0</td>\n",
       "      <td>1.0</td>\n",
       "      <td>810.0</td>\n",
       "      <td>303199.0</td>\n",
       "      <td>1950.0</td>\n",
       "      <td>3740.97</td>\n",
       "      <td>6037.0</td>\n",
       "    </tr>\n",
       "    <tr>\n",
       "      <th>205263</th>\n",
       "      <td>4.0</td>\n",
       "      <td>2.0</td>\n",
       "      <td>1875.0</td>\n",
       "      <td>243858.0</td>\n",
       "      <td>1964.0</td>\n",
       "      <td>2993.74</td>\n",
       "      <td>6111.0</td>\n",
       "    </tr>\n",
       "    <tr>\n",
       "      <th>350760</th>\n",
       "      <td>3.0</td>\n",
       "      <td>2.0</td>\n",
       "      <td>1768.0</td>\n",
       "      <td>208122.0</td>\n",
       "      <td>1960.0</td>\n",
       "      <td>2834.69</td>\n",
       "      <td>6037.0</td>\n",
       "    </tr>\n",
       "    <tr>\n",
       "      <th>283943</th>\n",
       "      <td>3.0</td>\n",
       "      <td>2.0</td>\n",
       "      <td>1527.0</td>\n",
       "      <td>275999.0</td>\n",
       "      <td>1929.0</td>\n",
       "      <td>3661.24</td>\n",
       "      <td>6037.0</td>\n",
       "    </tr>\n",
       "    <tr>\n",
       "      <th>292376</th>\n",
       "      <td>3.0</td>\n",
       "      <td>1.0</td>\n",
       "      <td>1191.0</td>\n",
       "      <td>60014.0</td>\n",
       "      <td>1949.0</td>\n",
       "      <td>892.84</td>\n",
       "      <td>6037.0</td>\n",
       "    </tr>\n",
       "  </tbody>\n",
       "</table>\n",
       "</div>"
      ],
      "text/plain": [
       "        bedroom  bathroom    area  taxvalue  yearbuilt  taxamount    fips\n",
       "231660      2.0       1.0   810.0  303199.0     1950.0    3740.97  6037.0\n",
       "205263      4.0       2.0  1875.0  243858.0     1964.0    2993.74  6111.0\n",
       "350760      3.0       2.0  1768.0  208122.0     1960.0    2834.69  6037.0\n",
       "283943      3.0       2.0  1527.0  275999.0     1929.0    3661.24  6037.0\n",
       "292376      3.0       1.0  1191.0   60014.0     1949.0     892.84  6037.0"
      ]
     },
     "execution_count": 8,
     "metadata": {},
     "output_type": "execute_result"
    }
   ],
   "source": [
    "train.head()"
   ]
  },
  {
   "cell_type": "markdown",
   "id": "49caf5f6",
   "metadata": {},
   "source": [
    "# Explore"
   ]
  },
  {
   "cell_type": "code",
   "execution_count": null,
   "id": "3b99340f",
   "metadata": {},
   "outputs": [],
   "source": [
    "# Explore the train subset\n",
    "# The train subset is too big to easily plot it, so I will randomly pick 1000 rows\n",
    "train_sampled = train.sample(n=1000, axis=0)\n",
    "\n",
    "sns.pairplot(train_sampled)"
   ]
  },
  {
   "cell_type": "code",
   "execution_count": null,
   "id": "89c45775",
   "metadata": {},
   "outputs": [],
   "source": [
    "# This tells us which features are correlated with taxvalue\n",
    "train_sampled.corr()"
   ]
  },
  {
   "cell_type": "code",
   "execution_count": null,
   "id": "ecbd60ac",
   "metadata": {
    "scrolled": true
   },
   "outputs": [],
   "source": [
    "# Correlation tests are used to check if two features are correlated\n",
    "r, p = pearsonr(train.taxvalue, train.area)\n",
    "r,p"
   ]
  },
  {
   "cell_type": "code",
   "execution_count": null,
   "id": "cd7d371f",
   "metadata": {},
   "outputs": [],
   "source": [
    "r, p = pearsonr(train.taxvalue, train.bedroom)\n",
    "r,p"
   ]
  },
  {
   "cell_type": "code",
   "execution_count": null,
   "id": "3911329a",
   "metadata": {},
   "outputs": [],
   "source": [
    "r, p = pearsonr(train.taxvalue, train.bathroom)\n",
    "r,p"
   ]
  },
  {
   "cell_type": "code",
   "execution_count": null,
   "id": "38f10e50",
   "metadata": {},
   "outputs": [],
   "source": [
    "f, p = ttest_ind(train.taxvalue, train.area)\n",
    "f, p"
   ]
  },
  {
   "cell_type": "code",
   "execution_count": null,
   "id": "0acf55c9",
   "metadata": {},
   "outputs": [],
   "source": [
    "f, p = ttest_ind(train.taxvalue, train.bedroom)\n",
    "f, p"
   ]
  },
  {
   "cell_type": "code",
   "execution_count": null,
   "id": "6d4c384d",
   "metadata": {},
   "outputs": [],
   "source": [
    "f, p = ttest_ind(train.taxvalue, train.bathroom)\n",
    "f, p"
   ]
  },
  {
   "cell_type": "markdown",
   "id": "b8d12d76",
   "metadata": {},
   "source": [
    "# Model & Evaluate"
   ]
  },
  {
   "cell_type": "markdown",
   "id": "c688b756",
   "metadata": {},
   "source": [
    "Scale the predictive features, but not the target"
   ]
  },
  {
   "cell_type": "code",
   "execution_count": 9,
   "id": "91ba1384",
   "metadata": {},
   "outputs": [],
   "source": [
    "# Create subsets with only predictive features (x)\n",
    "# Create subsets with only target feature (y)\n",
    "x_train = train.drop(columns=['taxvalue','taxamount'])\n",
    "y_train = train.taxvalue\n",
    "x_validate = train.drop(columns=['taxvalue','taxamount'])\n",
    "y_validate = train.taxvalue\n",
    "x_test = train.drop(columns=['taxvalue','taxamount'])\n",
    "y_test = train.taxvalue"
   ]
  },
  {
   "cell_type": "code",
   "execution_count": 10,
   "id": "ca5c8fb7",
   "metadata": {
    "scrolled": true
   },
   "outputs": [
    {
     "data": {
      "text/plain": [
       "((1601181, 5), (1601181, 5), (1601181, 5))"
      ]
     },
     "execution_count": 10,
     "metadata": {},
     "output_type": "execute_result"
    }
   ],
   "source": [
    "x_train_scaled, x_validate_scaled, x_test_scaled = prepare.zillow_scale(x_train, x_validate, x_test)\n",
    "x_train_scaled.shape, x_validate_scaled.shape, x_test_scaled.shape"
   ]
  },
  {
   "cell_type": "code",
   "execution_count": 11,
   "id": "b84ed9be",
   "metadata": {},
   "outputs": [
    {
     "data": {
      "text/plain": [
       "((1601181,), (1601181,), (1601181,))"
      ]
     },
     "execution_count": 11,
     "metadata": {},
     "output_type": "execute_result"
    }
   ],
   "source": [
    "y_train.shape, y_validate.shape, y_test.shape"
   ]
  },
  {
   "cell_type": "markdown",
   "id": "688d074e",
   "metadata": {},
   "source": [
    "### Using Kbest to identify importance of features"
   ]
  },
  {
   "cell_type": "code",
   "execution_count": 12,
   "id": "893173ca",
   "metadata": {},
   "outputs": [
    {
     "data": {
      "text/plain": [
       "Index(['bedroom', 'bathroom', 'area'], dtype='object')"
      ]
     },
     "execution_count": 12,
     "metadata": {},
     "output_type": "execute_result"
    }
   ],
   "source": [
    "# Use Select KBest to identify the best predictors\n",
    "kbest = model.select_kbest(x_train_scaled, y_train, x_train, 3)\n",
    "kbest"
   ]
  },
  {
   "cell_type": "markdown",
   "id": "b06686eb",
   "metadata": {},
   "source": [
    "### Using RFE to identify importance of features"
   ]
  },
  {
   "cell_type": "code",
   "execution_count": 13,
   "id": "9986b9f7",
   "metadata": {
    "scrolled": true
   },
   "outputs": [
    {
     "data": {
      "text/plain": [
       "Index(['bedroom', 'bathroom', 'area'], dtype='object')"
      ]
     },
     "execution_count": 13,
     "metadata": {},
     "output_type": "execute_result"
    }
   ],
   "source": [
    "# Use RFE to identify the best predictors\n",
    "k=3\n",
    "rfe_best = model.select_rfe(x_train_scaled, y_train, x_train, k)\n",
    "rfe_best"
   ]
  },
  {
   "cell_type": "code",
   "execution_count": 14,
   "id": "f590ea28",
   "metadata": {
    "scrolled": false
   },
   "outputs": [
    {
     "data": {
      "text/html": [
       "<div>\n",
       "<style scoped>\n",
       "    .dataframe tbody tr th:only-of-type {\n",
       "        vertical-align: middle;\n",
       "    }\n",
       "\n",
       "    .dataframe tbody tr th {\n",
       "        vertical-align: top;\n",
       "    }\n",
       "\n",
       "    .dataframe thead th {\n",
       "        text-align: right;\n",
       "    }\n",
       "</style>\n",
       "<table border=\"1\" class=\"dataframe\">\n",
       "  <thead>\n",
       "    <tr style=\"text-align: right;\">\n",
       "      <th></th>\n",
       "      <th>taxvalue</th>\n",
       "    </tr>\n",
       "  </thead>\n",
       "  <tbody>\n",
       "    <tr>\n",
       "      <th>231660</th>\n",
       "      <td>303199.0</td>\n",
       "    </tr>\n",
       "    <tr>\n",
       "      <th>205263</th>\n",
       "      <td>243858.0</td>\n",
       "    </tr>\n",
       "    <tr>\n",
       "      <th>350760</th>\n",
       "      <td>208122.0</td>\n",
       "    </tr>\n",
       "    <tr>\n",
       "      <th>283943</th>\n",
       "      <td>275999.0</td>\n",
       "    </tr>\n",
       "    <tr>\n",
       "      <th>292376</th>\n",
       "      <td>60014.0</td>\n",
       "    </tr>\n",
       "  </tbody>\n",
       "</table>\n",
       "</div>"
      ],
      "text/plain": [
       "        taxvalue\n",
       "231660  303199.0\n",
       "205263  243858.0\n",
       "350760  208122.0\n",
       "283943  275999.0\n",
       "292376   60014.0"
      ]
     },
     "execution_count": 14,
     "metadata": {},
     "output_type": "execute_result"
    }
   ],
   "source": [
    "# Convert target series back into pd dataframe\n",
    "y_train = pd.DataFrame(y_train)\n",
    "y_validate = pd.DataFrame(y_validate)\n",
    "y_test = pd.DataFrame(y_test)\n",
    "\n",
    "y_train.head()"
   ]
  },
  {
   "cell_type": "markdown",
   "id": "dadc8769",
   "metadata": {},
   "source": [
    "### Creating a baseline model"
   ]
  },
  {
   "cell_type": "code",
   "execution_count": null,
   "id": "27c91733",
   "metadata": {},
   "outputs": [],
   "source": [
    "# Create a mean baseline\n",
    "# Baseline is the median even though it says mean, so I don't have to make many changes\n",
    "price_pred_mean = y_train.taxvalue.median()\n",
    "y_train['price_pred_mean'] = price_pred_mean\n",
    "y_validate['price_pred_mean'] = price_pred_mean\n",
    "y_test['price_pred_mean'] = price_pred_mean\n",
    "\n",
    "y_train.head()"
   ]
  },
  {
   "cell_type": "code",
   "execution_count": null,
   "id": "a8984603",
   "metadata": {},
   "outputs": [],
   "source": [
    "# RMSE of price_pred_mean (mean baseline)\n",
    "rmse_train = mean_squared_error(y_train.taxvalue,\n",
    "                                y_train.price_pred_mean) ** .5\n",
    "\n",
    "rmse_validate = mean_squared_error(y_validate.taxvalue, \n",
    "                                   y_validate.price_pred_mean) ** .5\n",
    "\n",
    "rmse_test = mean_squared_error(y_test.taxvalue, \n",
    "                                   y_validate.price_pred_mean) ** .5\n",
    "\n",
    "r2_train = explained_variance_score(y_train.taxvalue, y_train.price_pred_mean)\n",
    "r2_validate = explained_variance_score(y_validate.taxvalue, y_validate.price_pred_mean)\n",
    "\n",
    "\n",
    "print(\"RMSE using Mean\\nTrain/In-Sample: \", round(rmse_train, 2), \n",
    "      \"\\nValidate/Out-of-Sample: \", round(rmse_validate, 2), \n",
    "      \"\\n\",\n",
    "      \"\\n\",\n",
    "      \"R^2 using Mean\\nTrain/In-Sample: \", round(r2_train, 2),\n",
    "      \"\\nValidate/Out-of-Sample: \", round(r2_validate, 2)\n",
    "     )\n"
   ]
  },
  {
   "cell_type": "code",
   "execution_count": null,
   "id": "2bcbc33a",
   "metadata": {
    "scrolled": true
   },
   "outputs": [],
   "source": [
    "sns.scatterplot(x=y_train['taxvalue'], y=y_train['price_pred_mean'])"
   ]
  },
  {
   "cell_type": "markdown",
   "id": "3a7d5c33",
   "metadata": {},
   "source": [
    "### Creating a linear regression model"
   ]
  },
  {
   "cell_type": "code",
   "execution_count": null,
   "id": "60497699",
   "metadata": {
    "scrolled": true
   },
   "outputs": [],
   "source": [
    "# Linear regression, OLS\n",
    "\n",
    "# Create the object\n",
    "lm = LinearRegression(normalize=True)\n",
    "\n",
    "# Fit the object\n",
    "lm.fit(x_train_scaled, y_train.taxvalue)\n",
    "\n",
    "# Use the object\n",
    "y_train['price_pred_lm'] = lm.predict(x_train)\n",
    "rmse_train = mean_squared_error(y_train.taxvalue, y_train.price_pred_lm) ** (1/2)\n",
    "\n",
    "y_validate['price_pred_lm'] = lm.predict(x_validate)\n",
    "rmse_validate = mean_squared_error(y_validate.taxvalue, y_validate.price_pred_lm) ** (1/2)\n",
    "\n",
    "r2_train = explained_variance_score(y_train.taxvalue, y_train.price_pred_lm)\n",
    "r2_validate = explained_variance_score(y_validate.taxvalue, y_validate.price_pred_lm)\n",
    "\n",
    "print(\"RMSE for OLS using LinearRegression\\nTraining/In-Sample: \", round(rmse_train,2), \n",
    "      \"\\nValidation/Out-of-Sample: \", round(rmse_validate,2),\n",
    "      \"\\n\",\n",
    "      \"\\n\",\n",
    "      \"R^2 using Mean\\nTrain/In-Sample: \", round(r2_train, 2),\n",
    "      \"\\nValidate/Out-of-Sample: \", round(r2_validate, 2))"
   ]
  },
  {
   "cell_type": "code",
   "execution_count": null,
   "id": "913be000",
   "metadata": {},
   "outputs": [],
   "source": [
    "sns.scatterplot(x=y_train['taxvalue'], y=y_train['price_pred_lm'])"
   ]
  },
  {
   "cell_type": "markdown",
   "id": "3f72e6c7",
   "metadata": {},
   "source": [
    "### Creating a LassoLars model"
   ]
  },
  {
   "cell_type": "code",
   "execution_count": null,
   "id": "eb081924",
   "metadata": {},
   "outputs": [],
   "source": [
    "# Create the object\n",
    "lars = LassoLars(alpha=1)\n",
    "\n",
    "# Fit the model to train. \n",
    "# We must specify the column in y_train, \n",
    "# because we have converted it to a dataframe from a series!\n",
    "lars.fit(x_train, y_train.taxvalue)\n",
    "\n",
    "# predict train\n",
    "y_train['price_pred_lars'] = lars.predict(x_train)\n",
    "\n",
    "# evaluate using rmse\n",
    "rmse_train = mean_squared_error(y_train.taxvalue, y_train.price_pred_lars) ** (1/2)\n",
    "\n",
    "# predict validate\n",
    "y_validate['price_pred_lars'] = lars.predict(x_validate)\n",
    "\n",
    "# evaluate using rmse\n",
    "rmse_validate = mean_squared_error(y_validate.taxvalue, y_validate.price_pred_lars) ** (1/2)\n",
    "\n",
    "r2_train = explained_variance_score(y_train.taxvalue, y_train.price_pred_lars)\n",
    "r2_validate = explained_variance_score(y_validate.taxvalue, y_validate.price_pred_lars)\n",
    "\n",
    "print(\"RMSE for Lasso + Lars\\nTraining/In-Sample: \", round(rmse_train,2), \n",
    "      \"\\nValidation/Out-of-Sample: \", round(rmse_validate,2),\n",
    "      \"\\n\",\n",
    "      \"\\n\",\n",
    "      \"R^2 using Mean\\nTrain/In-Sample: \", round(r2_train, 2),\n",
    "      \"\\nValidate/Out-of-Sample: \", round(r2_validate, 2))"
   ]
  },
  {
   "cell_type": "code",
   "execution_count": null,
   "id": "6f158ae5",
   "metadata": {},
   "outputs": [],
   "source": [
    "sns.scatterplot(x=y_train['taxvalue'], y=y_train['price_pred_lars'])"
   ]
  },
  {
   "cell_type": "markdown",
   "id": "f4757856",
   "metadata": {},
   "source": [
    "### Creating a generalized linear model (GLM)"
   ]
  },
  {
   "cell_type": "code",
   "execution_count": null,
   "id": "a785c1a5",
   "metadata": {
    "scrolled": true
   },
   "outputs": [],
   "source": [
    "# Create the object\n",
    "glm = TweedieRegressor(power=1, alpha=0)\n",
    "\n",
    "\n",
    "# Fit the model to train. \n",
    "# We must specify the column in y_train, \n",
    "# becuase we  converted it to a dataframe from a series! \n",
    "glm.fit(x_train, y_train.taxvalue)\n",
    "\n",
    "# predict train\n",
    "y_train['price_pred_glm'] = glm.predict(x_train)\n",
    "\n",
    "# evaluate: rmse\n",
    "rmse_train = mean_squared_error(y_train.taxvalue, y_train.price_pred_glm) ** (1/2)\n",
    "\n",
    "# predict validate\n",
    "y_validate['price_pred_glm'] = glm.predict(x_validate)\n",
    "\n",
    "# evaluate: rmse\n",
    "rmse_validate = mean_squared_error(y_validate.taxvalue, y_validate.price_pred_glm) ** (1/2)\n",
    "\n",
    "r2_train = explained_variance_score(y_train.taxvalue, y_train.price_pred_glm)\n",
    "r2_validate = explained_variance_score(y_validate.taxvalue, y_validate.price_pred_glm)\n",
    "\n",
    "print(\"RMSE for GLM using Tweedie, power=1 & alpha=0\\nTraining/In-Sample: \", round(rmse_train,2), \n",
    "      \"\\nValidation/Out-of-Sample: \", round(rmse_validate,2),\n",
    "      \"\\n\",\n",
    "      \"\\n\",\n",
    "      \"R^2 using Mean\\nTrain/In-Sample: \", round(r2_train, 2),\n",
    "      \"\\nValidate/Out-of-Sample: \", round(r2_validate, 2))"
   ]
  },
  {
   "cell_type": "code",
   "execution_count": null,
   "id": "15f609a2",
   "metadata": {},
   "outputs": [],
   "source": [
    "sns.scatterplot(x=y_train['taxvalue'], y=y_train['price_pred_glm'])"
   ]
  },
  {
   "cell_type": "code",
   "execution_count": null,
   "id": "96fd739b",
   "metadata": {},
   "outputs": [],
   "source": [
    "sns.scatterplot(x=y_test['taxvalue'], y=y_test['price_pred_lars'])"
   ]
  },
  {
   "cell_type": "markdown",
   "id": "6e480b8f",
   "metadata": {},
   "source": [
    "### LassoLars was the best model"
   ]
  },
  {
   "cell_type": "code",
   "execution_count": null,
   "id": "533bd621",
   "metadata": {
    "scrolled": true
   },
   "outputs": [],
   "source": [
    "# predict test\n",
    "y_test['price_pred_lars'] = lars.predict(x_test)\n",
    "\n",
    "# evaluate using rmse\n",
    "rmse_test = mean_squared_error(y_test.taxvalue, y_test.price_pred_lars) ** (1/2)\n",
    "\n",
    "r2_test = explained_variance_score(y_test.taxvalue, y_test.price_pred_lars)\n",
    "\n",
    "print(\"RMSE for Lasso + Lars\\n\",\n",
    "      \"Test/Out-of-Sample: \", round(rmse_test,2),\n",
    "      \"\\n\",\n",
    "      \"\\n\",\n",
    "      \"R^2 using Mean\\n\",\n",
    "      \"Test/Out-of-Sample: \", round(r2_test, 2))"
   ]
  },
  {
   "cell_type": "code",
   "execution_count": null,
   "id": "a355f312",
   "metadata": {
    "scrolled": true
   },
   "outputs": [],
   "source": [
    "sns.scatterplot(x=y_test['taxvalue'], y=y_test['price_pred_lars'])"
   ]
  },
  {
   "cell_type": "markdown",
   "id": "8601aae6",
   "metadata": {},
   "source": [
    "# Takeaways <br>\n",
    "- The three most predictive features for tax value are: area, bedroom, bathroom.\n",
    "- LassaLars was best model as determined by RMSE and R^2.\n",
    "- County had an effect on tax value, but was not one of the most important drivers."
   ]
  },
  {
   "cell_type": "code",
   "execution_count": null,
   "id": "b501f3e3",
   "metadata": {},
   "outputs": [],
   "source": []
  }
 ],
 "metadata": {
  "kernelspec": {
   "display_name": "Python 3",
   "language": "python",
   "name": "python3"
  },
  "language_info": {
   "codemirror_mode": {
    "name": "ipython",
    "version": 3
   },
   "file_extension": ".py",
   "mimetype": "text/x-python",
   "name": "python",
   "nbconvert_exporter": "python",
   "pygments_lexer": "ipython3",
   "version": "3.8.8"
  }
 },
 "nbformat": 4,
 "nbformat_minor": 5
}
